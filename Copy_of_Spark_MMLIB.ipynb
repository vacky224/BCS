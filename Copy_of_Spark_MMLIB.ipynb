{
  "nbformat": 4,
  "nbformat_minor": 0,
  "metadata": {
    "colab": {
      "provenance": [],
      "authorship_tag": "ABX9TyNNZ5LUWl0VXqAolkXte3KC",
      "include_colab_link": true
    },
    "kernelspec": {
      "name": "python3",
      "display_name": "Python 3"
    },
    "language_info": {
      "name": "python"
    }
  },
  "cells": [
    {
      "cell_type": "markdown",
      "metadata": {
        "id": "view-in-github",
        "colab_type": "text"
      },
      "source": [
        "<a href=\"https://colab.research.google.com/github/vacky224/BCS/blob/main/Copy_of_Spark_MMLIB.ipynb\" target=\"_parent\"><img src=\"https://colab.research.google.com/assets/colab-badge.svg\" alt=\"Open In Colab\"/></a>"
      ]
    },
    {
      "cell_type": "code",
      "execution_count": null,
      "metadata": {
        "colab": {
          "base_uri": "https://localhost:8080/"
        },
        "id": "3q0PYgTysjer",
        "outputId": "f91b6aa4-0144-4c26-f2c3-ff3cd247d035"
      },
      "outputs": [
        {
          "output_type": "stream",
          "name": "stdout",
          "text": [
            "Hello All\n"
          ]
        }
      ],
      "source": [
        "print (\"Hello All\")"
      ]
    },
    {
      "cell_type": "code",
      "source": [
        "pip install pyspark"
      ],
      "metadata": {
        "colab": {
          "base_uri": "https://localhost:8080/"
        },
        "id": "gRglCIgbsw0Q",
        "outputId": "a2405973-3e05-4860-960c-bddb75607a0a"
      },
      "execution_count": 3,
      "outputs": [
        {
          "output_type": "stream",
          "name": "stdout",
          "text": [
            "Collecting pyspark\n",
            "  Downloading pyspark-3.5.2.tar.gz (317.3 MB)\n",
            "\u001b[2K     \u001b[90m━━━━━━━━━━━━━━━━━━━━━━━━━━━━━━━━━━━━━━━━\u001b[0m \u001b[32m317.3/317.3 MB\u001b[0m \u001b[31m2.0 MB/s\u001b[0m eta \u001b[36m0:00:00\u001b[0m\n",
            "\u001b[?25h  Preparing metadata (setup.py) ... \u001b[?25l\u001b[?25hdone\n",
            "Requirement already satisfied: py4j==0.10.9.7 in /usr/local/lib/python3.10/dist-packages (from pyspark) (0.10.9.7)\n",
            "Building wheels for collected packages: pyspark\n",
            "  Building wheel for pyspark (setup.py) ... \u001b[?25l\u001b[?25hdone\n",
            "  Created wheel for pyspark: filename=pyspark-3.5.2-py2.py3-none-any.whl size=317812365 sha256=69076b60262a8763468eb1ac585cb3f1034be590ec8f7330890b11a1289ff297\n",
            "  Stored in directory: /root/.cache/pip/wheels/34/34/bd/03944534c44b677cd5859f248090daa9fb27b3c8f8e5f49574\n",
            "Successfully built pyspark\n",
            "Installing collected packages: pyspark\n",
            "Successfully installed pyspark-3.5.2\n"
          ]
        }
      ]
    },
    {
      "cell_type": "code",
      "source": [
        "! pip install pyspark\n"
      ],
      "metadata": {
        "colab": {
          "base_uri": "https://localhost:8080/"
        },
        "id": "Ba6bE5w7tgu1",
        "outputId": "8d42d2c3-6bb6-4d90-90d6-9d6258ea1647"
      },
      "execution_count": null,
      "outputs": [
        {
          "output_type": "stream",
          "name": "stdout",
          "text": [
            "Requirement already satisfied: pyspark in /usr/local/lib/python3.10/dist-packages (3.5.2)\n",
            "Requirement already satisfied: py4j==0.10.9.7 in /usr/local/lib/python3.10/dist-packages (from pyspark) (0.10.9.7)\n"
          ]
        }
      ]
    },
    {
      "cell_type": "code",
      "source": [
        "from pyspark.sql import SparkSession"
      ],
      "metadata": {
        "id": "oQl7vij6tndh"
      },
      "execution_count": 4,
      "outputs": []
    },
    {
      "cell_type": "code",
      "source": [
        "spark = SparkSession.builder.appName(\"spark\").getOrCreate()"
      ],
      "metadata": {
        "id": "ERZMv9cCtxSs"
      },
      "execution_count": 5,
      "outputs": []
    },
    {
      "cell_type": "code",
      "source": [
        "! git clone https://github.com/education454/diabetes_dataset"
      ],
      "metadata": {
        "colab": {
          "base_uri": "https://localhost:8080/"
        },
        "id": "zZ3DAfjnuQJL",
        "outputId": "daaa75a2-530a-4f8f-ef61-6b56b9bcac0b"
      },
      "execution_count": 6,
      "outputs": [
        {
          "output_type": "stream",
          "name": "stdout",
          "text": [
            "Cloning into 'diabetes_dataset'...\n",
            "remote: Enumerating objects: 6, done.\u001b[K\n",
            "remote: Counting objects: 100% (6/6), done.\u001b[K\n",
            "remote: Compressing objects: 100% (5/5), done.\u001b[K\n",
            "remote: Total 6 (delta 0), reused 0 (delta 0), pack-reused 0 (from 0)\u001b[K\n",
            "Receiving objects: 100% (6/6), 13.02 KiB | 6.51 MiB/s, done.\n"
          ]
        }
      ]
    },
    {
      "cell_type": "code",
      "source": [
        "! ls diabetes_dataset/"
      ],
      "metadata": {
        "colab": {
          "base_uri": "https://localhost:8080/"
        },
        "id": "kbtyBimhup_O",
        "outputId": "68381d7a-ccc2-46bb-8e49-234206df6bf1"
      },
      "execution_count": 7,
      "outputs": [
        {
          "output_type": "stream",
          "name": "stdout",
          "text": [
            "diabetes.csv  new_test.csv\n"
          ]
        }
      ]
    },
    {
      "cell_type": "code",
      "source": [],
      "metadata": {
        "id": "RoCz7xWMvROa"
      },
      "execution_count": null,
      "outputs": []
    },
    {
      "cell_type": "markdown",
      "source": [
        "Dataframe: Think of it as rows and columns"
      ],
      "metadata": {
        "id": "NWyWy4R5vTgi"
      }
    },
    {
      "cell_type": "code",
      "source": [
        "df = spark.read.csv('/content/diabetes_dataset/diabetes.csv',header='True',inferSchema=True)"
      ],
      "metadata": {
        "id": "2AYBj23OvX_2"
      },
      "execution_count": 8,
      "outputs": []
    },
    {
      "cell_type": "code",
      "source": [
        "df.show()"
      ],
      "metadata": {
        "colab": {
          "base_uri": "https://localhost:8080/"
        },
        "id": "UUYnGSJBwGaC",
        "outputId": "442a3798-e2fc-4139-9a86-e1ed2c46b47f"
      },
      "execution_count": 9,
      "outputs": [
        {
          "output_type": "stream",
          "name": "stdout",
          "text": [
            "+-----------+-------+-------------+-------------+-------+----+------------------------+---+-------+\n",
            "|Pregnancies|Glucose|BloodPressure|SkinThickness|Insulin| BMI|DiabetesPedigreeFunction|Age|Outcome|\n",
            "+-----------+-------+-------------+-------------+-------+----+------------------------+---+-------+\n",
            "|          2|    138|           62|           35|      0|33.6|                   0.127| 47|      1|\n",
            "|          0|     84|           82|           31|    125|38.2|                   0.233| 23|      0|\n",
            "|          0|    145|            0|            0|      0|44.2|                    0.63| 31|      1|\n",
            "|          0|    135|           68|           42|    250|42.3|                   0.365| 24|      1|\n",
            "|          1|    139|           62|           41|    480|40.7|                   0.536| 21|      0|\n",
            "|          0|    173|           78|           32|    265|46.5|                   1.159| 58|      0|\n",
            "|          4|     99|           72|           17|      0|25.6|                   0.294| 28|      0|\n",
            "|          8|    194|           80|            0|      0|26.1|                   0.551| 67|      0|\n",
            "|          2|     83|           65|           28|     66|36.8|                   0.629| 24|      0|\n",
            "|          2|     89|           90|           30|      0|33.5|                   0.292| 42|      0|\n",
            "|          4|     99|           68|           38|      0|32.8|                   0.145| 33|      0|\n",
            "|          4|    125|           70|           18|    122|28.9|                   1.144| 45|      1|\n",
            "|          3|     80|            0|            0|      0| 0.0|                   0.174| 22|      0|\n",
            "|          6|    166|           74|            0|      0|26.6|                   0.304| 66|      0|\n",
            "|          5|    110|           68|            0|      0|26.0|                   0.292| 30|      0|\n",
            "|          2|     81|           72|           15|     76|30.1|                   0.547| 25|      0|\n",
            "|          7|    195|           70|           33|    145|25.1|                   0.163| 55|      1|\n",
            "|          6|    154|           74|           32|    193|29.3|                   0.839| 39|      0|\n",
            "|          2|    117|           90|           19|     71|25.2|                   0.313| 21|      0|\n",
            "|          3|     84|           72|           32|      0|37.2|                   0.267| 28|      0|\n",
            "+-----------+-------+-------------+-------------+-------+----+------------------------+---+-------+\n",
            "only showing top 20 rows\n",
            "\n"
          ]
        }
      ]
    },
    {
      "cell_type": "code",
      "source": [
        "df.printSchema()"
      ],
      "metadata": {
        "colab": {
          "base_uri": "https://localhost:8080/"
        },
        "id": "TPYSrJCBwHiH",
        "outputId": "abc21d56-d110-4d75-bfe3-8f050818db05"
      },
      "execution_count": 10,
      "outputs": [
        {
          "output_type": "stream",
          "name": "stdout",
          "text": [
            "root\n",
            " |-- Pregnancies: integer (nullable = true)\n",
            " |-- Glucose: integer (nullable = true)\n",
            " |-- BloodPressure: integer (nullable = true)\n",
            " |-- SkinThickness: integer (nullable = true)\n",
            " |-- Insulin: integer (nullable = true)\n",
            " |-- BMI: double (nullable = true)\n",
            " |-- DiabetesPedigreeFunction: double (nullable = true)\n",
            " |-- Age: integer (nullable = true)\n",
            " |-- Outcome: integer (nullable = true)\n",
            "\n"
          ]
        }
      ]
    },
    {
      "cell_type": "code",
      "source": [
        "df.count()"
      ],
      "metadata": {
        "colab": {
          "base_uri": "https://localhost:8080/"
        },
        "id": "GvaFWt9A6J-s",
        "outputId": "d5fd20a7-5949-48e0-c1e2-fce8eda4d9aa"
      },
      "execution_count": 11,
      "outputs": [
        {
          "output_type": "execute_result",
          "data": {
            "text/plain": [
              "2000"
            ]
          },
          "metadata": {},
          "execution_count": 11
        }
      ]
    },
    {
      "cell_type": "code",
      "source": [
        "x = len(df.columns); print(x)"
      ],
      "metadata": {
        "colab": {
          "base_uri": "https://localhost:8080/"
        },
        "id": "7ALUv9gO6Nnv",
        "outputId": "21ac587d-f3ae-4e40-b19a-2bb6f677ca1a"
      },
      "execution_count": 12,
      "outputs": [
        {
          "output_type": "stream",
          "name": "stdout",
          "text": [
            "9\n"
          ]
        }
      ]
    },
    {
      "cell_type": "code",
      "source": [
        "df.groupBy('Outcome').count().show()"
      ],
      "metadata": {
        "colab": {
          "base_uri": "https://localhost:8080/"
        },
        "id": "CxeUVnIt82KW",
        "outputId": "67f71451-be18-41ae-dca7-e5ea00eb7a6d"
      },
      "execution_count": 13,
      "outputs": [
        {
          "output_type": "stream",
          "name": "stdout",
          "text": [
            "+-------+-----+\n",
            "|Outcome|count|\n",
            "+-------+-----+\n",
            "|      1|  684|\n",
            "|      0| 1316|\n",
            "+-------+-----+\n",
            "\n"
          ]
        }
      ]
    },
    {
      "cell_type": "code",
      "source": [
        "df.describe().show()"
      ],
      "metadata": {
        "colab": {
          "base_uri": "https://localhost:8080/"
        },
        "id": "e5yooWJe9BN9",
        "outputId": "8c70bd2b-1e96-411a-c3b0-782e900e6613"
      },
      "execution_count": 14,
      "outputs": [
        {
          "output_type": "stream",
          "name": "stdout",
          "text": [
            "+-------+-----------------+------------------+------------------+-----------------+-----------------+------------------+------------------------+------------------+------------------+\n",
            "|summary|      Pregnancies|           Glucose|     BloodPressure|    SkinThickness|          Insulin|               BMI|DiabetesPedigreeFunction|               Age|           Outcome|\n",
            "+-------+-----------------+------------------+------------------+-----------------+-----------------+------------------+------------------------+------------------+------------------+\n",
            "|  count|             2000|              2000|              2000|             2000|             2000|              2000|                    2000|              2000|              2000|\n",
            "|   mean|           3.7035|          121.1825|           69.1455|           20.935|           80.254|32.192999999999984|     0.47092999999999974|           33.0905|             0.342|\n",
            "| stddev|3.306063032730656|32.068635649902916|19.188314815604098|16.10324290992682|111.1805335457595| 8.149900701279762|      0.3235525586811429|11.786423106049496|0.4744982342297426|\n",
            "|    min|                0|                 0|                 0|                0|                0|               0.0|                   0.078|                21|                 0|\n",
            "|    max|               17|               199|               122|              110|              744|              80.6|                    2.42|                81|                 1|\n",
            "+-------+-----------------+------------------+------------------+-----------------+-----------------+------------------+------------------------+------------------+------------------+\n",
            "\n"
          ]
        }
      ]
    },
    {
      "cell_type": "markdown",
      "source": [
        "Cleaning ROWs"
      ],
      "metadata": {
        "id": "0OvHgWsE9gZg"
      }
    },
    {
      "cell_type": "code",
      "source": [
        "for col in df.columns:\n",
        "  print(col)"
      ],
      "metadata": {
        "colab": {
          "base_uri": "https://localhost:8080/"
        },
        "id": "QSAFmB3u9jsV",
        "outputId": "2ceeaad3-9f38-41ab-ea94-d46428e1035b"
      },
      "execution_count": 15,
      "outputs": [
        {
          "output_type": "stream",
          "name": "stdout",
          "text": [
            "Pregnancies\n",
            "Glucose\n",
            "BloodPressure\n",
            "SkinThickness\n",
            "Insulin\n",
            "BMI\n",
            "DiabetesPedigreeFunction\n",
            "Age\n",
            "Outcome\n"
          ]
        }
      ]
    },
    {
      "cell_type": "code",
      "source": [
        "for col in df.columns:\n",
        "  print(col+\":\",df[df[col].isNull()].count())"
      ],
      "metadata": {
        "colab": {
          "base_uri": "https://localhost:8080/"
        },
        "id": "kTnnSrcH93fr",
        "outputId": "48bd3571-bda3-4059-d400-23d94565f2ac"
      },
      "execution_count": 16,
      "outputs": [
        {
          "output_type": "stream",
          "name": "stdout",
          "text": [
            "Pregnancies: 0\n",
            "Glucose: 0\n",
            "BloodPressure: 0\n",
            "SkinThickness: 0\n",
            "Insulin: 0\n",
            "BMI: 0\n",
            "DiabetesPedigreeFunction: 0\n",
            "Age: 0\n",
            "Outcome: 0\n"
          ]
        }
      ]
    },
    {
      "source": [
        "for col in df.columns:\n",
        "    print(col+\":\",df[df[col].isNull()].count())\n"
      ],
      "cell_type": "code",
      "metadata": {
        "colab": {
          "base_uri": "https://localhost:8080/"
        },
        "id": "o-uJrIXj-2WG",
        "outputId": "8fe0de8f-878e-4290-f6f7-cf759d0621cc"
      },
      "execution_count": 17,
      "outputs": [
        {
          "output_type": "stream",
          "name": "stdout",
          "text": [
            "Pregnancies: 0\n",
            "Glucose: 0\n",
            "BloodPressure: 0\n",
            "SkinThickness: 0\n",
            "Insulin: 0\n",
            "BMI: 0\n",
            "DiabetesPedigreeFunction: 0\n",
            "Age: 0\n",
            "Outcome: 0\n"
          ]
        }
      ]
    },
    {
      "cell_type": "code",
      "source": [
        "def count_zeoes():\n",
        "  column_list = ['Glucose','BloodPressure','SkinThickness','Insulin','BMI']\n",
        "  for i in column_list:\n",
        "    print(\"i\")\n",
        "    print (\"Hello World\")\n"
      ],
      "metadata": {
        "id": "mFdp1KfM_IY5"
      },
      "execution_count": 18,
      "outputs": []
    },
    {
      "cell_type": "code",
      "source": [
        "def count_zeros():\n",
        "  column_list = ['Glucose','BloodPressure','SkinThickness','Insulin','BMI']\n",
        "  for i in column_list:\n",
        "    print(i+\":\",df[df[i]==0].count())\n"
      ],
      "metadata": {
        "id": "XcTZCjpOKL5C"
      },
      "execution_count": 19,
      "outputs": []
    },
    {
      "cell_type": "code",
      "source": [
        "count_zeros()"
      ],
      "metadata": {
        "colab": {
          "base_uri": "https://localhost:8080/"
        },
        "id": "ZZrSkxDSMkKc",
        "outputId": "cdfba3b8-7d59-4b7f-acef-5da36caa7fee"
      },
      "execution_count": 20,
      "outputs": [
        {
          "output_type": "stream",
          "name": "stdout",
          "text": [
            "Glucose: 13\n",
            "BloodPressure: 90\n",
            "SkinThickness: 573\n",
            "Insulin: 956\n",
            "BMI: 28\n"
          ]
        }
      ]
    },
    {
      "cell_type": "code",
      "source": [
        "for j in df.columns:\n",
        "  print(j)"
      ],
      "metadata": {
        "colab": {
          "base_uri": "https://localhost:8080/"
        },
        "id": "NlMecHyTMrzM",
        "outputId": "bbdbb916-a2b3-4de9-f5af-ec00994a6b5b"
      },
      "execution_count": 21,
      "outputs": [
        {
          "output_type": "stream",
          "name": "stdout",
          "text": [
            "Pregnancies\n",
            "Glucose\n",
            "BloodPressure\n",
            "SkinThickness\n",
            "Insulin\n",
            "BMI\n",
            "DiabetesPedigreeFunction\n",
            "Age\n",
            "Outcome\n"
          ]
        }
      ]
    },
    {
      "cell_type": "code",
      "source": [
        "df.columns"
      ],
      "metadata": {
        "colab": {
          "base_uri": "https://localhost:8080/"
        },
        "id": "B0sOCVPBM7S2",
        "outputId": "c8ede9e9-f33a-4309-a649-12abe0cb82de"
      },
      "execution_count": 22,
      "outputs": [
        {
          "output_type": "execute_result",
          "data": {
            "text/plain": [
              "['Pregnancies',\n",
              " 'Glucose',\n",
              " 'BloodPressure',\n",
              " 'SkinThickness',\n",
              " 'Insulin',\n",
              " 'BMI',\n",
              " 'DiabetesPedigreeFunction',\n",
              " 'Age',\n",
              " 'Outcome']"
            ]
          },
          "metadata": {},
          "execution_count": 22
        }
      ]
    },
    {
      "cell_type": "code",
      "source": [
        "for i in df.columns[1:6]:\n",
        "  data = df.agg({i:'mean'}).first()[0]\n",
        "  print(\"Mean value for {} is {}\".format(i,int(data)))"
      ],
      "metadata": {
        "colab": {
          "base_uri": "https://localhost:8080/"
        },
        "id": "aYfy9Gx7NJ27",
        "outputId": "bda25cf5-d218-4c86-95ef-fdcaea4a5711"
      },
      "execution_count": 24,
      "outputs": [
        {
          "output_type": "stream",
          "name": "stdout",
          "text": [
            "Mean value for Glucose is 121\n",
            "Mean value for BloodPressure is 69\n",
            "Mean value for SkinThickness is 20\n",
            "Mean value for Insulin is 80\n",
            "Mean value for BMI is 32\n"
          ]
        }
      ]
    },
    {
      "cell_type": "code",
      "source": [],
      "metadata": {
        "id": "2rDuXZbmO-bG"
      },
      "execution_count": 24,
      "outputs": []
    },
    {
      "cell_type": "code",
      "source": [
        "df.show()"
      ],
      "metadata": {
        "colab": {
          "base_uri": "https://localhost:8080/"
        },
        "id": "2oK7KXtVOyH6",
        "outputId": "43a6df0b-8dd9-4a89-d16f-ac32f069bcd3"
      },
      "execution_count": 25,
      "outputs": [
        {
          "output_type": "stream",
          "name": "stdout",
          "text": [
            "+-----------+-------+-------------+-------------+-------+----+------------------------+---+-------+\n",
            "|Pregnancies|Glucose|BloodPressure|SkinThickness|Insulin| BMI|DiabetesPedigreeFunction|Age|Outcome|\n",
            "+-----------+-------+-------------+-------------+-------+----+------------------------+---+-------+\n",
            "|          2|    138|           62|           35|      0|33.6|                   0.127| 47|      1|\n",
            "|          0|     84|           82|           31|    125|38.2|                   0.233| 23|      0|\n",
            "|          0|    145|            0|            0|      0|44.2|                    0.63| 31|      1|\n",
            "|          0|    135|           68|           42|    250|42.3|                   0.365| 24|      1|\n",
            "|          1|    139|           62|           41|    480|40.7|                   0.536| 21|      0|\n",
            "|          0|    173|           78|           32|    265|46.5|                   1.159| 58|      0|\n",
            "|          4|     99|           72|           17|      0|25.6|                   0.294| 28|      0|\n",
            "|          8|    194|           80|            0|      0|26.1|                   0.551| 67|      0|\n",
            "|          2|     83|           65|           28|     66|36.8|                   0.629| 24|      0|\n",
            "|          2|     89|           90|           30|      0|33.5|                   0.292| 42|      0|\n",
            "|          4|     99|           68|           38|      0|32.8|                   0.145| 33|      0|\n",
            "|          4|    125|           70|           18|    122|28.9|                   1.144| 45|      1|\n",
            "|          3|     80|            0|            0|      0| 0.0|                   0.174| 22|      0|\n",
            "|          6|    166|           74|            0|      0|26.6|                   0.304| 66|      0|\n",
            "|          5|    110|           68|            0|      0|26.0|                   0.292| 30|      0|\n",
            "|          2|     81|           72|           15|     76|30.1|                   0.547| 25|      0|\n",
            "|          7|    195|           70|           33|    145|25.1|                   0.163| 55|      1|\n",
            "|          6|    154|           74|           32|    193|29.3|                   0.839| 39|      0|\n",
            "|          2|    117|           90|           19|     71|25.2|                   0.313| 21|      0|\n",
            "|          3|     84|           72|           32|      0|37.2|                   0.267| 28|      0|\n",
            "+-----------+-------+-------------+-------------+-------+----+------------------------+---+-------+\n",
            "only showing top 20 rows\n",
            "\n"
          ]
        }
      ]
    },
    {
      "cell_type": "code",
      "source": [],
      "metadata": {
        "id": "Sa0ABxcJO32y"
      },
      "execution_count": null,
      "outputs": []
    },
    {
      "cell_type": "code",
      "source": [
        "\n",
        "from pyspark.sql.functions import *\n",
        "for i in df.columns[1:6]:\n",
        "  data = df.agg({i:'mean'}).first()[0]\n",
        "  df = df.withColumn(i,when(df[i]==0,int(data)).otherwise(df[i]))\n",
        "  df.show()\n"
      ],
      "metadata": {
        "colab": {
          "base_uri": "https://localhost:8080/"
        },
        "id": "4F-NiPesO_v2",
        "outputId": "b68b9c79-7490-4679-d573-6d7f21705896"
      },
      "execution_count": 27,
      "outputs": [
        {
          "output_type": "stream",
          "name": "stdout",
          "text": [
            "+-----------+-------+-------------+-------------+-------+----+------------------------+---+-------+\n",
            "|Pregnancies|Glucose|BloodPressure|SkinThickness|Insulin| BMI|DiabetesPedigreeFunction|Age|Outcome|\n",
            "+-----------+-------+-------------+-------------+-------+----+------------------------+---+-------+\n",
            "|          2|    138|           62|           35|     80|33.6|                   0.127| 47|      1|\n",
            "|          0|     84|           82|           31|    125|38.2|                   0.233| 23|      0|\n",
            "|          0|    145|           69|           20|     80|44.2|                    0.63| 31|      1|\n",
            "|          0|    135|           68|           42|    250|42.3|                   0.365| 24|      1|\n",
            "|          1|    139|           62|           41|    480|40.7|                   0.536| 21|      0|\n",
            "|          0|    173|           78|           32|    265|46.5|                   1.159| 58|      0|\n",
            "|          4|     99|           72|           17|     80|25.6|                   0.294| 28|      0|\n",
            "|          8|    194|           80|           20|     80|26.1|                   0.551| 67|      0|\n",
            "|          2|     83|           65|           28|     66|36.8|                   0.629| 24|      0|\n",
            "|          2|     89|           90|           30|     80|33.5|                   0.292| 42|      0|\n",
            "|          4|     99|           68|           38|     80|32.8|                   0.145| 33|      0|\n",
            "|          4|    125|           70|           18|    122|28.9|                   1.144| 45|      1|\n",
            "|          3|     80|           69|           20|     80|32.0|                   0.174| 22|      0|\n",
            "|          6|    166|           74|           20|     80|26.6|                   0.304| 66|      0|\n",
            "|          5|    110|           68|           20|     80|26.0|                   0.292| 30|      0|\n",
            "|          2|     81|           72|           15|     76|30.1|                   0.547| 25|      0|\n",
            "|          7|    195|           70|           33|    145|25.1|                   0.163| 55|      1|\n",
            "|          6|    154|           74|           32|    193|29.3|                   0.839| 39|      0|\n",
            "|          2|    117|           90|           19|     71|25.2|                   0.313| 21|      0|\n",
            "|          3|     84|           72|           32|     80|37.2|                   0.267| 28|      0|\n",
            "+-----------+-------+-------------+-------------+-------+----+------------------------+---+-------+\n",
            "only showing top 20 rows\n",
            "\n",
            "+-----------+-------+-------------+-------------+-------+----+------------------------+---+-------+\n",
            "|Pregnancies|Glucose|BloodPressure|SkinThickness|Insulin| BMI|DiabetesPedigreeFunction|Age|Outcome|\n",
            "+-----------+-------+-------------+-------------+-------+----+------------------------+---+-------+\n",
            "|          2|    138|           62|           35|     80|33.6|                   0.127| 47|      1|\n",
            "|          0|     84|           82|           31|    125|38.2|                   0.233| 23|      0|\n",
            "|          0|    145|           69|           20|     80|44.2|                    0.63| 31|      1|\n",
            "|          0|    135|           68|           42|    250|42.3|                   0.365| 24|      1|\n",
            "|          1|    139|           62|           41|    480|40.7|                   0.536| 21|      0|\n",
            "|          0|    173|           78|           32|    265|46.5|                   1.159| 58|      0|\n",
            "|          4|     99|           72|           17|     80|25.6|                   0.294| 28|      0|\n",
            "|          8|    194|           80|           20|     80|26.1|                   0.551| 67|      0|\n",
            "|          2|     83|           65|           28|     66|36.8|                   0.629| 24|      0|\n",
            "|          2|     89|           90|           30|     80|33.5|                   0.292| 42|      0|\n",
            "|          4|     99|           68|           38|     80|32.8|                   0.145| 33|      0|\n",
            "|          4|    125|           70|           18|    122|28.9|                   1.144| 45|      1|\n",
            "|          3|     80|           69|           20|     80|32.0|                   0.174| 22|      0|\n",
            "|          6|    166|           74|           20|     80|26.6|                   0.304| 66|      0|\n",
            "|          5|    110|           68|           20|     80|26.0|                   0.292| 30|      0|\n",
            "|          2|     81|           72|           15|     76|30.1|                   0.547| 25|      0|\n",
            "|          7|    195|           70|           33|    145|25.1|                   0.163| 55|      1|\n",
            "|          6|    154|           74|           32|    193|29.3|                   0.839| 39|      0|\n",
            "|          2|    117|           90|           19|     71|25.2|                   0.313| 21|      0|\n",
            "|          3|     84|           72|           32|     80|37.2|                   0.267| 28|      0|\n",
            "+-----------+-------+-------------+-------------+-------+----+------------------------+---+-------+\n",
            "only showing top 20 rows\n",
            "\n",
            "+-----------+-------+-------------+-------------+-------+----+------------------------+---+-------+\n",
            "|Pregnancies|Glucose|BloodPressure|SkinThickness|Insulin| BMI|DiabetesPedigreeFunction|Age|Outcome|\n",
            "+-----------+-------+-------------+-------------+-------+----+------------------------+---+-------+\n",
            "|          2|    138|           62|           35|     80|33.6|                   0.127| 47|      1|\n",
            "|          0|     84|           82|           31|    125|38.2|                   0.233| 23|      0|\n",
            "|          0|    145|           69|           20|     80|44.2|                    0.63| 31|      1|\n",
            "|          0|    135|           68|           42|    250|42.3|                   0.365| 24|      1|\n",
            "|          1|    139|           62|           41|    480|40.7|                   0.536| 21|      0|\n",
            "|          0|    173|           78|           32|    265|46.5|                   1.159| 58|      0|\n",
            "|          4|     99|           72|           17|     80|25.6|                   0.294| 28|      0|\n",
            "|          8|    194|           80|           20|     80|26.1|                   0.551| 67|      0|\n",
            "|          2|     83|           65|           28|     66|36.8|                   0.629| 24|      0|\n",
            "|          2|     89|           90|           30|     80|33.5|                   0.292| 42|      0|\n",
            "|          4|     99|           68|           38|     80|32.8|                   0.145| 33|      0|\n",
            "|          4|    125|           70|           18|    122|28.9|                   1.144| 45|      1|\n",
            "|          3|     80|           69|           20|     80|32.0|                   0.174| 22|      0|\n",
            "|          6|    166|           74|           20|     80|26.6|                   0.304| 66|      0|\n",
            "|          5|    110|           68|           20|     80|26.0|                   0.292| 30|      0|\n",
            "|          2|     81|           72|           15|     76|30.1|                   0.547| 25|      0|\n",
            "|          7|    195|           70|           33|    145|25.1|                   0.163| 55|      1|\n",
            "|          6|    154|           74|           32|    193|29.3|                   0.839| 39|      0|\n",
            "|          2|    117|           90|           19|     71|25.2|                   0.313| 21|      0|\n",
            "|          3|     84|           72|           32|     80|37.2|                   0.267| 28|      0|\n",
            "+-----------+-------+-------------+-------------+-------+----+------------------------+---+-------+\n",
            "only showing top 20 rows\n",
            "\n",
            "+-----------+-------+-------------+-------------+-------+----+------------------------+---+-------+\n",
            "|Pregnancies|Glucose|BloodPressure|SkinThickness|Insulin| BMI|DiabetesPedigreeFunction|Age|Outcome|\n",
            "+-----------+-------+-------------+-------------+-------+----+------------------------+---+-------+\n",
            "|          2|    138|           62|           35|     80|33.6|                   0.127| 47|      1|\n",
            "|          0|     84|           82|           31|    125|38.2|                   0.233| 23|      0|\n",
            "|          0|    145|           69|           20|     80|44.2|                    0.63| 31|      1|\n",
            "|          0|    135|           68|           42|    250|42.3|                   0.365| 24|      1|\n",
            "|          1|    139|           62|           41|    480|40.7|                   0.536| 21|      0|\n",
            "|          0|    173|           78|           32|    265|46.5|                   1.159| 58|      0|\n",
            "|          4|     99|           72|           17|     80|25.6|                   0.294| 28|      0|\n",
            "|          8|    194|           80|           20|     80|26.1|                   0.551| 67|      0|\n",
            "|          2|     83|           65|           28|     66|36.8|                   0.629| 24|      0|\n",
            "|          2|     89|           90|           30|     80|33.5|                   0.292| 42|      0|\n",
            "|          4|     99|           68|           38|     80|32.8|                   0.145| 33|      0|\n",
            "|          4|    125|           70|           18|    122|28.9|                   1.144| 45|      1|\n",
            "|          3|     80|           69|           20|     80|32.0|                   0.174| 22|      0|\n",
            "|          6|    166|           74|           20|     80|26.6|                   0.304| 66|      0|\n",
            "|          5|    110|           68|           20|     80|26.0|                   0.292| 30|      0|\n",
            "|          2|     81|           72|           15|     76|30.1|                   0.547| 25|      0|\n",
            "|          7|    195|           70|           33|    145|25.1|                   0.163| 55|      1|\n",
            "|          6|    154|           74|           32|    193|29.3|                   0.839| 39|      0|\n",
            "|          2|    117|           90|           19|     71|25.2|                   0.313| 21|      0|\n",
            "|          3|     84|           72|           32|     80|37.2|                   0.267| 28|      0|\n",
            "+-----------+-------+-------------+-------------+-------+----+------------------------+---+-------+\n",
            "only showing top 20 rows\n",
            "\n",
            "+-----------+-------+-------------+-------------+-------+----+------------------------+---+-------+\n",
            "|Pregnancies|Glucose|BloodPressure|SkinThickness|Insulin| BMI|DiabetesPedigreeFunction|Age|Outcome|\n",
            "+-----------+-------+-------------+-------------+-------+----+------------------------+---+-------+\n",
            "|          2|    138|           62|           35|     80|33.6|                   0.127| 47|      1|\n",
            "|          0|     84|           82|           31|    125|38.2|                   0.233| 23|      0|\n",
            "|          0|    145|           69|           20|     80|44.2|                    0.63| 31|      1|\n",
            "|          0|    135|           68|           42|    250|42.3|                   0.365| 24|      1|\n",
            "|          1|    139|           62|           41|    480|40.7|                   0.536| 21|      0|\n",
            "|          0|    173|           78|           32|    265|46.5|                   1.159| 58|      0|\n",
            "|          4|     99|           72|           17|     80|25.6|                   0.294| 28|      0|\n",
            "|          8|    194|           80|           20|     80|26.1|                   0.551| 67|      0|\n",
            "|          2|     83|           65|           28|     66|36.8|                   0.629| 24|      0|\n",
            "|          2|     89|           90|           30|     80|33.5|                   0.292| 42|      0|\n",
            "|          4|     99|           68|           38|     80|32.8|                   0.145| 33|      0|\n",
            "|          4|    125|           70|           18|    122|28.9|                   1.144| 45|      1|\n",
            "|          3|     80|           69|           20|     80|32.0|                   0.174| 22|      0|\n",
            "|          6|    166|           74|           20|     80|26.6|                   0.304| 66|      0|\n",
            "|          5|    110|           68|           20|     80|26.0|                   0.292| 30|      0|\n",
            "|          2|     81|           72|           15|     76|30.1|                   0.547| 25|      0|\n",
            "|          7|    195|           70|           33|    145|25.1|                   0.163| 55|      1|\n",
            "|          6|    154|           74|           32|    193|29.3|                   0.839| 39|      0|\n",
            "|          2|    117|           90|           19|     71|25.2|                   0.313| 21|      0|\n",
            "|          3|     84|           72|           32|     80|37.2|                   0.267| 28|      0|\n",
            "+-----------+-------+-------------+-------------+-------+----+------------------------+---+-------+\n",
            "only showing top 20 rows\n",
            "\n"
          ]
        }
      ]
    },
    {
      "cell_type": "markdown",
      "source": [
        "Let us do the Co-relation"
      ],
      "metadata": {
        "id": "Q5wl5iCMQ2RR"
      }
    },
    {
      "cell_type": "code",
      "source": [
        "for col in df.columns():\n",
        "  print(\"Correlation to outcome for {} is {}\".format(col,df.stat.corr('Outcome',col)))\n"
      ],
      "metadata": {
        "colab": {
          "base_uri": "https://localhost:8080/",
          "height": 159
        },
        "id": "lNyh7SD6Q4yp",
        "outputId": "9749dc0b-1662-4e5c-a2e6-aa666aac408e"
      },
      "execution_count": 28,
      "outputs": [
        {
          "output_type": "error",
          "ename": "TypeError",
          "evalue": "'list' object is not callable",
          "traceback": [
            "\u001b[0;31m---------------------------------------------------------------------------\u001b[0m",
            "\u001b[0;31mTypeError\u001b[0m                                 Traceback (most recent call last)",
            "\u001b[0;32m<ipython-input-28-b96d86a0aa4b>\u001b[0m in \u001b[0;36m<cell line: 1>\u001b[0;34m()\u001b[0m\n\u001b[0;32m----> 1\u001b[0;31m \u001b[0;32mfor\u001b[0m \u001b[0mcol\u001b[0m \u001b[0;32min\u001b[0m \u001b[0mdf\u001b[0m\u001b[0;34m.\u001b[0m\u001b[0mcolumns\u001b[0m\u001b[0;34m(\u001b[0m\u001b[0;34m)\u001b[0m\u001b[0;34m:\u001b[0m\u001b[0;34m\u001b[0m\u001b[0;34m\u001b[0m\u001b[0m\n\u001b[0m\u001b[1;32m      2\u001b[0m   \u001b[0mprint\u001b[0m\u001b[0;34m(\u001b[0m\u001b[0;34m\"Correlation to outcome for {} is {}\"\u001b[0m\u001b[0;34m.\u001b[0m\u001b[0mformat\u001b[0m\u001b[0;34m(\u001b[0m\u001b[0mcol\u001b[0m\u001b[0;34m,\u001b[0m\u001b[0mdf\u001b[0m\u001b[0;34m.\u001b[0m\u001b[0mstat\u001b[0m\u001b[0;34m.\u001b[0m\u001b[0mcorr\u001b[0m\u001b[0;34m(\u001b[0m\u001b[0;34m'Outcome'\u001b[0m\u001b[0;34m,\u001b[0m\u001b[0mcol\u001b[0m\u001b[0;34m)\u001b[0m\u001b[0;34m)\u001b[0m\u001b[0;34m)\u001b[0m\u001b[0;34m\u001b[0m\u001b[0;34m\u001b[0m\u001b[0m\n",
            "\u001b[0;31mTypeError\u001b[0m: 'list' object is not callable"
          ]
        }
      ]
    },
    {
      "cell_type": "code",
      "source": [
        "for col in df.columns:\n",
        "    print(\"Correlation to outcome for {} is {}\".format(col, df.stat.corr('Outcome', col)))\n"
      ],
      "metadata": {
        "colab": {
          "base_uri": "https://localhost:8080/"
        },
        "id": "v3mdMxeWRk2O",
        "outputId": "75d76889-0d25-49d3-d127-ae37dd5cac82"
      },
      "execution_count": 29,
      "outputs": [
        {
          "output_type": "stream",
          "name": "stdout",
          "text": [
            "Correlation to outcome for Pregnancies is 0.22443699263363961\n",
            "Correlation to outcome for Glucose is 0.48796646527321064\n",
            "Correlation to outcome for BloodPressure is 0.17171333286446713\n",
            "Correlation to outcome for SkinThickness is 0.1659010662889893\n",
            "Correlation to outcome for Insulin is 0.1711763270226193\n",
            "Correlation to outcome for BMI is 0.2827927569760082\n",
            "Correlation to outcome for DiabetesPedigreeFunction is 0.1554590791569403\n",
            "Correlation to outcome for Age is 0.23650924717620253\n",
            "Correlation to outcome for Outcome is 1.0\n"
          ]
        }
      ]
    },
    {
      "cell_type": "code",
      "source": [
        "from pyspark.ml.feature import VectorAssembler\n",
        "assembler = VectorAssembler(inputCols=['Pregnancies','Glucose','BloodPressure','SkinThickness','Insulin','BMI','DiabetesPedigreeFunction','Age'],outputCol='features')\n",
        "output_data = assembler.transform(df)\n",
        "print(output_data)\n"
      ],
      "metadata": {
        "colab": {
          "base_uri": "https://localhost:8080/"
        },
        "id": "8Krh-iwCSMKX",
        "outputId": "5e94a0c1-0fc9-439e-ec54-36e30df1a2d3"
      },
      "execution_count": 30,
      "outputs": [
        {
          "output_type": "stream",
          "name": "stdout",
          "text": [
            "DataFrame[Pregnancies: int, Glucose: int, BloodPressure: int, SkinThickness: int, Insulin: int, BMI: double, DiabetesPedigreeFunction: double, Age: int, Outcome: int, features: vector]\n"
          ]
        }
      ]
    },
    {
      "cell_type": "code",
      "source": [
        "output_data.printSchema()"
      ],
      "metadata": {
        "colab": {
          "base_uri": "https://localhost:8080/"
        },
        "id": "AjDfd7WPd8RT",
        "outputId": "82e40d9a-ec87-4494-9a92-e37f490438a2"
      },
      "execution_count": 31,
      "outputs": [
        {
          "output_type": "stream",
          "name": "stdout",
          "text": [
            "root\n",
            " |-- Pregnancies: integer (nullable = true)\n",
            " |-- Glucose: integer (nullable = true)\n",
            " |-- BloodPressure: integer (nullable = true)\n",
            " |-- SkinThickness: integer (nullable = true)\n",
            " |-- Insulin: integer (nullable = true)\n",
            " |-- BMI: double (nullable = true)\n",
            " |-- DiabetesPedigreeFunction: double (nullable = true)\n",
            " |-- Age: integer (nullable = true)\n",
            " |-- Outcome: integer (nullable = true)\n",
            " |-- features: vector (nullable = true)\n",
            "\n"
          ]
        }
      ]
    },
    {
      "cell_type": "code",
      "source": [
        "output_data.show()"
      ],
      "metadata": {
        "colab": {
          "base_uri": "https://localhost:8080/"
        },
        "id": "rKeG53uPfFgZ",
        "outputId": "d4462c11-4d2a-4db2-8477-34aaab02254c"
      },
      "execution_count": 32,
      "outputs": [
        {
          "output_type": "stream",
          "name": "stdout",
          "text": [
            "+-----------+-------+-------------+-------------+-------+----+------------------------+---+-------+--------------------+\n",
            "|Pregnancies|Glucose|BloodPressure|SkinThickness|Insulin| BMI|DiabetesPedigreeFunction|Age|Outcome|            features|\n",
            "+-----------+-------+-------------+-------------+-------+----+------------------------+---+-------+--------------------+\n",
            "|          2|    138|           62|           35|     80|33.6|                   0.127| 47|      1|[2.0,138.0,62.0,3...|\n",
            "|          0|     84|           82|           31|    125|38.2|                   0.233| 23|      0|[0.0,84.0,82.0,31...|\n",
            "|          0|    145|           69|           20|     80|44.2|                    0.63| 31|      1|[0.0,145.0,69.0,2...|\n",
            "|          0|    135|           68|           42|    250|42.3|                   0.365| 24|      1|[0.0,135.0,68.0,4...|\n",
            "|          1|    139|           62|           41|    480|40.7|                   0.536| 21|      0|[1.0,139.0,62.0,4...|\n",
            "|          0|    173|           78|           32|    265|46.5|                   1.159| 58|      0|[0.0,173.0,78.0,3...|\n",
            "|          4|     99|           72|           17|     80|25.6|                   0.294| 28|      0|[4.0,99.0,72.0,17...|\n",
            "|          8|    194|           80|           20|     80|26.1|                   0.551| 67|      0|[8.0,194.0,80.0,2...|\n",
            "|          2|     83|           65|           28|     66|36.8|                   0.629| 24|      0|[2.0,83.0,65.0,28...|\n",
            "|          2|     89|           90|           30|     80|33.5|                   0.292| 42|      0|[2.0,89.0,90.0,30...|\n",
            "|          4|     99|           68|           38|     80|32.8|                   0.145| 33|      0|[4.0,99.0,68.0,38...|\n",
            "|          4|    125|           70|           18|    122|28.9|                   1.144| 45|      1|[4.0,125.0,70.0,1...|\n",
            "|          3|     80|           69|           20|     80|32.0|                   0.174| 22|      0|[3.0,80.0,69.0,20...|\n",
            "|          6|    166|           74|           20|     80|26.6|                   0.304| 66|      0|[6.0,166.0,74.0,2...|\n",
            "|          5|    110|           68|           20|     80|26.0|                   0.292| 30|      0|[5.0,110.0,68.0,2...|\n",
            "|          2|     81|           72|           15|     76|30.1|                   0.547| 25|      0|[2.0,81.0,72.0,15...|\n",
            "|          7|    195|           70|           33|    145|25.1|                   0.163| 55|      1|[7.0,195.0,70.0,3...|\n",
            "|          6|    154|           74|           32|    193|29.3|                   0.839| 39|      0|[6.0,154.0,74.0,3...|\n",
            "|          2|    117|           90|           19|     71|25.2|                   0.313| 21|      0|[2.0,117.0,90.0,1...|\n",
            "|          3|     84|           72|           32|     80|37.2|                   0.267| 28|      0|[3.0,84.0,72.0,32...|\n",
            "+-----------+-------+-------------+-------------+-------+----+------------------------+---+-------+--------------------+\n",
            "only showing top 20 rows\n",
            "\n"
          ]
        }
      ]
    },
    {
      "cell_type": "markdown",
      "source": [],
      "metadata": {
        "id": "wJ3OQt8VdH2D"
      }
    },
    {
      "cell_type": "code",
      "source": [
        "from pyspark.ml.classification import LogisticRegression\n",
        "final_data = output_data.select('features','Outcome')"
      ],
      "metadata": {
        "id": "B6DWLUJbfPOk"
      },
      "execution_count": 33,
      "outputs": []
    },
    {
      "cell_type": "code",
      "source": [
        "final_data.printSchema()"
      ],
      "metadata": {
        "colab": {
          "base_uri": "https://localhost:8080/"
        },
        "id": "StipkdknjBSb",
        "outputId": "0152df76-c27e-4669-c600-5e1e57950aa9"
      },
      "execution_count": 34,
      "outputs": [
        {
          "output_type": "stream",
          "name": "stdout",
          "text": [
            "root\n",
            " |-- features: vector (nullable = true)\n",
            " |-- Outcome: integer (nullable = true)\n",
            "\n"
          ]
        }
      ]
    },
    {
      "cell_type": "code",
      "source": [
        "train,test = final_data.randomSplit([0.7,0.3])\n",
        "models = LogisticRegression(labelCol='Outcome')\n",
        "model = models.fit(train)"
      ],
      "metadata": {
        "id": "Cpsx-BnyjGqe"
      },
      "execution_count": 35,
      "outputs": []
    },
    {
      "cell_type": "code",
      "source": [
        "summary = model.summary"
      ],
      "metadata": {
        "id": "hMrlPdn9lx9i"
      },
      "execution_count": 36,
      "outputs": []
    },
    {
      "cell_type": "code",
      "source": [
        "summary.predictions.describe().show()"
      ],
      "metadata": {
        "colab": {
          "base_uri": "https://localhost:8080/"
        },
        "id": "PKAHuWV1l0dp",
        "outputId": "e2a081b6-ae4c-48a8-bf36-06afbd8ac1f8"
      },
      "execution_count": 37,
      "outputs": [
        {
          "output_type": "stream",
          "name": "stdout",
          "text": [
            "+-------+-------------------+-------------------+\n",
            "|summary|            Outcome|         prediction|\n",
            "+-------+-------------------+-------------------+\n",
            "|  count|               1430|               1430|\n",
            "|   mean|0.34055944055944054|0.25594405594405595|\n",
            "| stddev| 0.4740631455339051|0.43654319589081814|\n",
            "|    min|                0.0|                0.0|\n",
            "|    max|                1.0|                1.0|\n",
            "+-------+-------------------+-------------------+\n",
            "\n"
          ]
        }
      ]
    },
    {
      "cell_type": "code",
      "source": [
        "from pyspark.ml.evaluation import BinaryClassificationEvaluator\n",
        "predictions = model.evaluate(test)\n"
      ],
      "metadata": {
        "id": "dMxRR-26tgIO"
      },
      "execution_count": 38,
      "outputs": []
    },
    {
      "cell_type": "code",
      "source": [
        "predictions.predictions.show(10)"
      ],
      "metadata": {
        "id": "Efr0-PqHtsNc",
        "outputId": "e3fedf4b-fa75-46e9-e175-4765df2f0ef5",
        "colab": {
          "base_uri": "https://localhost:8080/"
        }
      },
      "execution_count": 39,
      "outputs": [
        {
          "output_type": "stream",
          "name": "stdout",
          "text": [
            "+--------------------+-------+--------------------+--------------------+----------+\n",
            "|            features|Outcome|       rawPrediction|         probability|prediction|\n",
            "+--------------------+-------+--------------------+--------------------+----------+\n",
            "|[0.0,57.0,60.0,20...|      0|[4.15777110481254...|[0.98459853136313...|       0.0|\n",
            "|[0.0,67.0,76.0,20...|      0|[2.54616879866407...|[0.92731570912349...|       0.0|\n",
            "|[0.0,74.0,52.0,10...|      0|[3.51625991554568...|[0.97114688909678...|       0.0|\n",
            "|[0.0,74.0,52.0,10...|      0|[3.51625991554568...|[0.97114688909678...|       0.0|\n",
            "|[0.0,78.0,88.0,29...|      0|[2.57365862648913...|[0.92914693243904...|       0.0|\n",
            "|[0.0,78.0,88.0,29...|      0|[2.57365862648913...|[0.92914693243904...|       0.0|\n",
            "|[0.0,84.0,64.0,22...|      0|[2.35632770507135...|[0.91343587480471...|       0.0|\n",
            "|[0.0,84.0,82.0,31...|      0|[2.58603544547150...|[0.92995741922822...|       0.0|\n",
            "|[0.0,91.0,68.0,32...|      0|[2.20839948131638...|[0.90100125536560...|       0.0|\n",
            "|[0.0,91.0,80.0,20...|      0|[2.32447079569063...|[0.91088352358730...|       0.0|\n",
            "+--------------------+-------+--------------------+--------------------+----------+\n",
            "only showing top 10 rows\n",
            "\n"
          ]
        }
      ]
    },
    {
      "cell_type": "code",
      "source": [],
      "metadata": {
        "id": "6pL8XbCCas5n"
      },
      "execution_count": null,
      "outputs": []
    },
    {
      "cell_type": "markdown",
      "source": [
        "Let us do some Evaluation and TEST\n"
      ],
      "metadata": {
        "id": "nCepZty0atxM"
      }
    },
    {
      "cell_type": "code",
      "source": [
        "from pyspark.ml.evaluation import BinaryClassificationEvaluator\n",
        "predictions = model.evaluate(test)\n",
        "predictions.predictions.show(300)\n"
      ],
      "metadata": {
        "colab": {
          "base_uri": "https://localhost:8080/"
        },
        "id": "eYstGRHqaw5w",
        "outputId": "00449bbc-43a0-4879-af3e-aea370652b03"
      },
      "execution_count": 47,
      "outputs": [
        {
          "output_type": "stream",
          "name": "stdout",
          "text": [
            "+--------------------+-------+--------------------+--------------------+----------+\n",
            "|            features|Outcome|       rawPrediction|         probability|prediction|\n",
            "+--------------------+-------+--------------------+--------------------+----------+\n",
            "|[0.0,57.0,60.0,20...|      0|[4.15777110481254...|[0.98459853136313...|       0.0|\n",
            "|[0.0,67.0,76.0,20...|      0|[2.54616879866407...|[0.92731570912349...|       0.0|\n",
            "|[0.0,74.0,52.0,10...|      0|[3.51625991554568...|[0.97114688909678...|       0.0|\n",
            "|[0.0,74.0,52.0,10...|      0|[3.51625991554568...|[0.97114688909678...|       0.0|\n",
            "|[0.0,78.0,88.0,29...|      0|[2.57365862648913...|[0.92914693243904...|       0.0|\n",
            "|[0.0,78.0,88.0,29...|      0|[2.57365862648913...|[0.92914693243904...|       0.0|\n",
            "|[0.0,84.0,64.0,22...|      0|[2.35632770507135...|[0.91343587480471...|       0.0|\n",
            "|[0.0,84.0,82.0,31...|      0|[2.58603544547150...|[0.92995741922822...|       0.0|\n",
            "|[0.0,91.0,68.0,32...|      0|[2.20839948131638...|[0.90100125536560...|       0.0|\n",
            "|[0.0,91.0,80.0,20...|      0|[2.32447079569063...|[0.91088352358730...|       0.0|\n",
            "|[0.0,93.0,60.0,20...|      0|[2.31542104230164...|[0.91014617558043...|       0.0|\n",
            "|[0.0,93.0,60.0,25...|      0|[2.61456538826805...|[0.93179312076253...|       0.0|\n",
            "|[0.0,93.0,100.0,3...|      0|[1.01226835869160...|[0.73346383597577...|       0.0|\n",
            "|[0.0,93.0,100.0,3...|      0|[1.01226835869160...|[0.73346383597577...|       0.0|\n",
            "|[0.0,93.0,100.0,3...|      0|[1.01226835869160...|[0.73346383597577...|       0.0|\n",
            "|[0.0,94.0,69.0,20...|      0|[2.54549534650462...|[0.92727030451806...|       0.0|\n",
            "|[0.0,94.0,70.0,27...|      0|[1.67159187024258...|[0.84178794339571...|       0.0|\n",
            "|[0.0,95.0,64.0,39...|      0|[1.50486874728275...|[0.81829951010458...|       0.0|\n",
            "|[0.0,95.0,80.0,45...|      0|[2.13459127086453...|[0.89422008575500...|       0.0|\n",
            "|[0.0,95.0,85.0,25...|      1|[2.03461336715932...|[0.88438362829045...|       0.0|\n",
            "|[0.0,95.0,85.0,25...|      1|[2.03461336715932...|[0.88438362829045...|       0.0|\n",
            "|[0.0,97.0,64.0,36...|      0|[1.79462793910616...|[0.85749373865003...|       0.0|\n",
            "|[0.0,99.0,69.0,20...|      0|[2.90363214565988...|[0.94802569505829...|       0.0|\n",
            "|[0.0,100.0,88.0,6...|      0|[0.62139377044662...|[0.65053547349596...|       0.0|\n",
            "|[0.0,101.0,62.0,2...|      0|[2.9727141750092,...|[0.95132611024103...|       0.0|\n",
            "|[0.0,101.0,62.0,2...|      0|[2.9727141750092,...|[0.95132611024103...|       0.0|\n",
            "|[0.0,101.0,62.0,2...|      0|[2.9727141750092,...|[0.95132611024103...|       0.0|\n",
            "|[0.0,101.0,65.0,2...|      0|[2.86995296617903...|[0.94634095967740...|       0.0|\n",
            "|[0.0,101.0,65.0,2...|      0|[2.86995296617903...|[0.94634095967740...|       0.0|\n",
            "|[0.0,101.0,76.0,2...|      0|[2.05244368883194...|[0.88619430709560...|       0.0|\n",
            "|[0.0,102.0,78.0,4...|      0|[2.10356748229434...|[0.89124943595612...|       0.0|\n",
            "|[0.0,102.0,78.0,4...|      0|[2.10356748229434...|[0.89124943595612...|       0.0|\n",
            "|[0.0,104.0,76.0,2...|      0|[2.91375627649341...|[0.94852228441288...|       0.0|\n",
            "|[0.0,105.0,64.0,4...|      0|[1.61026829164743...|[0.83344863185917...|       0.0|\n",
            "|[0.0,106.0,70.0,3...|      0|[1.36331577621421...|[0.79629806976788...|       0.0|\n",
            "|[0.0,107.0,62.0,3...|      1|[1.23307890565538...|[0.77435700041804...|       0.0|\n",
            "|[0.0,107.0,76.0,2...|      0|[0.65970434435295...|[0.65919397038452...|       0.0|\n",
            "|[0.0,111.0,65.0,2...|      0|[2.07850988621612...|[0.88879684019090...|       0.0|\n",
            "|[0.0,114.0,80.0,3...|      0|[1.35552151610508...|[0.79503086257721...|       0.0|\n",
            "|[0.0,116.0,64.0,3...|      0|[0.87399506114088...|[0.70557630660186...|       0.0|\n",
            "|[0.0,117.0,69.0,2...|      0|[0.86313526251060...|[0.70331528405298...|       0.0|\n",
            "|[0.0,118.0,64.0,2...|      0|[0.33847705683782...|[0.58382053446579...|       0.0|\n",
            "|[0.0,118.0,64.0,2...|      0|[0.33847705683782...|[0.58382053446579...|       0.0|\n",
            "|[0.0,118.0,64.0,2...|      0|[0.33847705683782...|[0.58382053446579...|       0.0|\n",
            "|[0.0,119.0,69.0,2...|      1|[1.67117817193403...|[0.84173283884972...|       0.0|\n",
            "|[0.0,121.0,66.0,3...|      1|[1.53493613011500...|[0.82272738138025...|       0.0|\n",
            "|[0.0,121.0,66.0,3...|      1|[1.53493613011500...|[0.82272738138025...|       0.0|\n",
            "|[0.0,124.0,56.0,1...|      0|[2.05879335874553...|[0.88683312776662...|       0.0|\n",
            "|[0.0,124.0,56.0,1...|      0|[2.05879335874553...|[0.88683312776662...|       0.0|\n",
            "|[0.0,125.0,68.0,2...|      0|[1.98283610516106...|[0.87898316800557...|       0.0|\n",
            "|[0.0,125.0,96.0,2...|      0|[2.13030835214748...|[0.89381427767822...|       0.0|\n",
            "|[0.0,125.0,96.0,2...|      0|[2.13030835214748...|[0.89381427767822...|       0.0|\n",
            "|[0.0,129.0,80.0,2...|      0|[0.87369688473053...|[0.70551436012004...|       0.0|\n",
            "|[0.0,131.0,88.0,2...|      1|[0.72944516459306...|[0.67468350596457...|       0.0|\n",
            "|[0.0,132.0,78.0,2...|      0|[0.97087183304062...|[0.72529323849738...|       0.0|\n",
            "|[0.0,132.0,78.0,2...|      0|[0.97087183304062...|[0.72529323849738...|       0.0|\n",
            "|[0.0,135.0,68.0,4...|      1|[0.45339633759102...|[0.61144643954425...|       0.0|\n",
            "|[0.0,135.0,68.0,4...|      1|[0.45339633759102...|[0.61144643954425...|       0.0|\n",
            "|[0.0,135.0,94.0,4...|      0|[0.46437676833165...|[0.61405195226524...|       0.0|\n",
            "|[0.0,135.0,94.0,4...|      0|[0.46437676833165...|[0.61405195226524...|       0.0|\n",
            "|[0.0,136.0,74.0,4...|      1|[1.58402925953710...|[0.82977440268812...|       0.0|\n",
            "|[0.0,137.0,70.0,3...|      0|[0.91134814925889...|[0.71327595655218...|       0.0|\n",
            "|[0.0,137.0,84.0,2...|      0|[1.19447380338800...|[0.76754024537282...|       0.0|\n",
            "|[0.0,138.0,60.0,3...|      1|[0.60876240104538...|[0.64765843736539...|       0.0|\n",
            "|[0.0,139.0,62.0,1...|      0|[1.90538521330970...|[0.87049981233202...|       0.0|\n",
            "|[0.0,139.0,62.0,1...|      0|[1.90538521330970...|[0.87049981233202...|       0.0|\n",
            "|[0.0,141.0,69.0,2...|      1|[-0.0040645461643...|[0.49898386485783...|       1.0|\n",
            "|[0.0,141.0,69.0,2...|      1|[-0.0040645461643...|[0.49898386485783...|       1.0|\n",
            "|[0.0,141.0,69.0,2...|      1|[-0.0040645461643...|[0.49898386485783...|       1.0|\n",
            "|[0.0,141.0,84.0,2...|      0|[0.59706177163057...|[0.64498379854971...|       0.0|\n",
            "|[0.0,145.0,69.0,2...|      1|[-0.6814693690702...|[0.33593343358518...|       1.0|\n",
            "|[0.0,145.0,69.0,2...|      1|[-0.6814693690702...|[0.33593343358518...|       1.0|\n",
            "|[0.0,146.0,70.0,2...|      1|[0.03883660379831...|[0.50970793078897...|       0.0|\n",
            "|[0.0,147.0,85.0,5...|      0|[-0.3743858185554...|[0.40748167980489...|       1.0|\n",
            "|[0.0,165.0,76.0,4...|      0|[-1.0081215028032...|[0.26734763656890...|       1.0|\n",
            "|[0.0,165.0,90.0,3...|      0|[-0.6103166050162...|[0.35198697941817...|       1.0|\n",
            "|[0.0,167.0,69.0,2...|      1|[-0.7915908840682...|[0.31182717787427...|       1.0|\n",
            "|[0.0,167.0,69.0,2...|      1|[-0.7915908840682...|[0.31182717787427...|       1.0|\n",
            "|[0.0,173.0,78.0,3...|      0|[-2.1004854688955...|[0.10904964514320...|       1.0|\n",
            "|[0.0,173.0,78.0,3...|      0|[-2.1004854688955...|[0.10904964514320...|       1.0|\n",
            "|[0.0,173.0,78.0,3...|      0|[-2.1004854688955...|[0.10904964514320...|       1.0|\n",
            "|[0.0,173.0,78.0,3...|      0|[-2.1004854688955...|[0.10904964514320...|       1.0|\n",
            "|[0.0,177.0,60.0,2...|      1|[-0.7262343934745...|[0.32602160716457...|       1.0|\n",
            "|[0.0,177.0,60.0,2...|      1|[-0.7262343934745...|[0.32602160716457...|       1.0|\n",
            "|[0.0,179.0,90.0,2...|      1|[-1.9655929341015...|[0.12286303739141...|       1.0|\n",
            "|[0.0,180.0,78.0,6...|      1|[-4.8737594398558...|[0.00758657576619...|       1.0|\n",
            "|[0.0,180.0,78.0,6...|      1|[-4.8737594398558...|[0.00758657576619...|       1.0|\n",
            "|[0.0,188.0,82.0,1...|      1|[-1.1734850456916...|[0.23622562368844...|       1.0|\n",
            "|[0.0,189.0,104.0,...|      1|[-1.4182276586636...|[0.19493958116782...|       1.0|\n",
            "|[1.0,71.0,48.0,18...|      0|[4.10556738633243...|[0.98378654327252...|       0.0|\n",
            "|[1.0,71.0,62.0,20...|      0|[3.92478049018264...|[0.98063590166503...|       0.0|\n",
            "|[1.0,71.0,78.0,50...|      0|[3.01655021805980...|[0.95331623491465...|       0.0|\n",
            "|[1.0,71.0,78.0,50...|      0|[3.01655021805980...|[0.95331623491465...|       0.0|\n",
            "|[1.0,79.0,80.0,25...|      0|[3.14207383663715...|[0.95859527038562...|       0.0|\n",
            "|[1.0,80.0,55.0,20...|      0|[3.94043812434101...|[0.98093099969123...|       0.0|\n",
            "|[1.0,81.0,72.0,18...|      0|[3.23264171404616...|[0.96204433303648...|       0.0|\n",
            "|[1.0,81.0,72.0,18...|      0|[3.23264171404616...|[0.96204433303648...|       0.0|\n",
            "|[1.0,83.0,68.0,20...|      0|[3.56044728819331...|[0.97235960171680...|       0.0|\n",
            "|[1.0,83.0,68.0,20...|      0|[3.56044728819331...|[0.97235960171680...|       0.0|\n",
            "|[1.0,84.0,64.0,23...|      0|[2.29358199828038...|[0.90834410618294...|       0.0|\n",
            "|[1.0,87.0,60.0,37...|      0|[2.06046345184713...|[0.88700063027604...|       0.0|\n",
            "|[1.0,87.0,78.0,27...|      0|[2.55466607428098...|[0.92788636093546...|       0.0|\n",
            "|[1.0,90.0,62.0,12...|      0|[2.57285021303582...|[0.92909369376152...|       0.0|\n",
            "|[1.0,90.0,62.0,18...|      0|[2.14704428246125...|[0.89539225306338...|       0.0|\n",
            "|[1.0,91.0,54.0,25...|      0|[3.11111327632075...|[0.95734883627907...|       0.0|\n",
            "|[1.0,91.0,54.0,25...|      0|[3.11111327632075...|[0.95734883627907...|       0.0|\n",
            "|[1.0,91.0,64.0,24...|      0|[2.81943278638702...|[0.94371694630325...|       0.0|\n",
            "|[1.0,93.0,70.0,31...|      0|[2.54232487695595...|[0.92705619791663...|       0.0|\n",
            "|[1.0,95.0,60.0,18...|      0|[2.95830352377446...|[0.95065447210410...|       0.0|\n",
            "|[1.0,95.0,66.0,13...|      0|[3.17532619876951...|[0.95989512742768...|       0.0|\n",
            "|[1.0,95.0,74.0,21...|      0|[2.43331470043682...|[0.91933269320355...|       0.0|\n",
            "|[1.0,96.0,122.0,2...|      0|[3.17568730824971...|[0.95990902656018...|       0.0|\n",
            "|[1.0,97.0,68.0,21...|      0|[1.93516781577104...|[0.87382031643364...|       0.0|\n",
            "|[1.0,97.0,68.0,21...|      0|[1.93516781577104...|[0.87382031643364...|       0.0|\n",
            "|[1.0,97.0,70.0,15...|      0|[3.47736837826403...|[0.97003692589265...|       0.0|\n",
            "|[1.0,99.0,72.0,30...|      0|[1.48325106915435...|[0.81506313337481...|       0.0|\n",
            "|[1.0,100.0,66.0,2...|      0|[2.20431272487882...|[0.90063612703058...|       0.0|\n",
            "|[1.0,100.0,72.0,1...|      0|[2.31981188379259...|[0.91050461301986...|       0.0|\n",
            "|[1.0,100.0,74.0,1...|      0|[3.17297322951001...|[0.95980444832927...|       0.0|\n",
            "|[1.0,102.0,74.0,2...|      1|[1.46145312417590...|[0.81175482573406...|       0.0|\n",
            "|[1.0,103.0,80.0,1...|      0|[2.8595911094905,...|[0.94581234714735...|       0.0|\n",
            "|[1.0,105.0,58.0,2...|      0|[2.65938422365372...|[0.93458703170698...|       0.0|\n",
            "|[1.0,106.0,70.0,2...|      0|[2.02703637095665...|[0.88360662701292...|       0.0|\n",
            "|[1.0,107.0,68.0,1...|      0|[2.43495889983738...|[0.91945454314412...|       0.0|\n",
            "|[1.0,107.0,72.0,3...|      0|[1.52865375206354...|[0.82180925668031...|       0.0|\n",
            "|[1.0,107.0,72.0,3...|      0|[1.52865375206354...|[0.82180925668031...|       0.0|\n",
            "|[1.0,108.0,60.0,4...|      0|[1.68044592714931...|[0.84296357019045...|       0.0|\n",
            "|[1.0,108.0,88.0,1...|      0|[2.16146391760890...|[0.89673518780888...|       0.0|\n",
            "|[1.0,109.0,38.0,1...|      0|[2.44461837755344...|[0.92016701139015...|       0.0|\n",
            "|[1.0,109.0,58.0,1...|      0|[2.22670627230829...|[0.90262223939439...|       0.0|\n",
            "|[1.0,109.0,60.0,8...|      0|[1.94860134200016...|[0.87529405229407...|       0.0|\n",
            "|[1.0,111.0,94.0,2...|      0|[1.66763635320482...|[0.84126043119289...|       0.0|\n",
            "|[1.0,111.0,94.0,2...|      0|[1.66763635320482...|[0.84126043119289...|       0.0|\n",
            "|[1.0,112.0,72.0,3...|      0|[1.51317700079378...|[0.81953156102109...|       0.0|\n",
            "|[1.0,112.0,72.0,3...|      0|[1.51317700079378...|[0.81953156102109...|       0.0|\n",
            "|[1.0,112.0,80.0,4...|      0|[1.68693647424042...|[0.84382085144835...|       0.0|\n",
            "|[1.0,112.0,80.0,4...|      0|[1.68693647424042...|[0.84382085144835...|       0.0|\n",
            "|[1.0,116.0,70.0,2...|      0|[2.00323049428531...|[0.88113584212586...|       0.0|\n",
            "|[1.0,116.0,78.0,2...|      0|[1.27404580607573...|[0.78143453649655...|       0.0|\n",
            "|[1.0,117.0,60.0,2...|      0|[1.26179137588614...|[0.77933432901883...|       0.0|\n",
            "|[1.0,117.0,88.0,2...|      1|[1.32923641686698...|[0.79071430113343...|       0.0|\n",
            "|[1.0,117.0,88.0,2...|      1|[1.32923641686698...|[0.79071430113343...|       0.0|\n",
            "|[1.0,117.0,88.0,2...|      1|[1.32923641686698...|[0.79071430113343...|       0.0|\n",
            "|[1.0,119.0,54.0,1...|      0|[2.18740960457879...|[0.89911317791722...|       0.0|\n",
            "|[1.0,119.0,88.0,4...|      0|[0.43589570711854...|[0.60728062655380...|       0.0|\n",
            "|[1.0,119.0,88.0,4...|      0|[0.43589570711854...|[0.60728062655380...|       0.0|\n",
            "|[1.0,120.0,80.0,4...|      0|[0.30303711895684...|[0.57518479739088...|       0.0|\n",
            "|[1.0,121.0,48.0,2...|      0|[2.04887774829261...|[0.88583417230464...|       0.0|\n",
            "|[1.0,121.0,74.0,2...|      0|[1.59209060149123...|[0.83091003277837...|       0.0|\n",
            "|[1.0,121.0,78.0,3...|      0|[0.84970646755599...|[0.70050556372015...|       0.0|\n",
            "|[1.0,121.0,78.0,3...|      0|[0.84970646755599...|[0.70050556372015...|       0.0|\n",
            "|[1.0,121.0,78.0,3...|      0|[0.84970646755599...|[0.70050556372015...|       0.0|\n",
            "|[1.0,122.0,64.0,3...|      1|[0.86699802089789...|[0.70412066488825...|       0.0|\n",
            "|[1.0,122.0,90.0,5...|      1|[0.23704757207824...|[0.55898594205142...|       0.0|\n",
            "|[1.0,122.0,90.0,5...|      1|[0.23704757207824...|[0.55898594205142...|       0.0|\n",
            "|[1.0,124.0,60.0,3...|      0|[0.76926922351210...|[0.68336279091028...|       0.0|\n",
            "|[1.0,124.0,60.0,3...|      0|[0.76926922351210...|[0.68336279091028...|       0.0|\n",
            "|[1.0,124.0,74.0,3...|      0|[1.73699389821287...|[0.85030483201942...|       0.0|\n",
            "|[1.0,125.0,50.0,4...|      1|[0.66462879480443...|[0.66029941518797...|       0.0|\n",
            "|[1.0,125.0,70.0,2...|      0|[1.92940293245559...|[0.87318331880499...|       0.0|\n",
            "|[1.0,126.0,56.0,2...|      0|[1.12016072186144...|[0.75401852748694...|       0.0|\n",
            "|[1.0,128.0,82.0,1...|      0|[1.83514276900236...|[0.86237323790507...|       0.0|\n",
            "|[1.0,128.0,82.0,1...|      0|[1.83514276900236...|[0.86237323790507...|       0.0|\n",
            "|[1.0,130.0,60.0,2...|      0|[1.11297091315460...|[0.75268256651132...|       0.0|\n",
            "|[1.0,130.0,60.0,2...|      0|[1.11297091315460...|[0.75268256651132...|       0.0|\n",
            "|[1.0,130.0,70.0,1...|      0|[1.38988829862587...|[0.80057441006451...|       0.0|\n",
            "|[1.0,130.0,70.0,1...|      0|[1.38988829862587...|[0.80057441006451...|       0.0|\n",
            "|[1.0,131.0,64.0,1...|      0|[2.22051089058718...|[0.90207633430029...|       0.0|\n",
            "|[1.0,135.0,54.0,2...|      0|[0.74378895730499...|[0.67782384061777...|       0.0|\n",
            "|[1.0,136.0,74.0,5...|      0|[0.55351946602518...|[0.63495174789030...|       0.0|\n",
            "|[1.0,139.0,46.0,1...|      0|[0.60194002102150...|[0.64610002693754...|       0.0|\n",
            "|[1.0,139.0,62.0,4...|      0|[0.61988576245412...|[0.65019256658169...|       0.0|\n",
            "|[1.0,139.0,62.0,4...|      0|[0.61988576245412...|[0.65019256658169...|       0.0|\n",
            "|[1.0,143.0,74.0,2...|      0|[0.98662554334446...|[0.72842088896169...|       0.0|\n",
            "|[1.0,143.0,74.0,2...|      0|[0.98662554334446...|[0.72842088896169...|       0.0|\n",
            "|[1.0,143.0,86.0,3...|      0|[0.67133645825984...|[0.66180234994317...|       0.0|\n",
            "|[1.0,144.0,82.0,4...|      1|[-0.4743753193697...|[0.38358118838175...|       1.0|\n",
            "|[1.0,144.0,82.0,4...|      1|[-0.4743753193697...|[0.38358118838175...|       1.0|\n",
            "|[1.0,149.0,68.0,2...|      1|[0.49568900637280...|[0.62144569814744...|       0.0|\n",
            "|[1.0,157.0,72.0,2...|      0|[0.82409611518583...|[0.69510513922710...|       0.0|\n",
            "|[1.0,163.0,72.0,2...|      1|[-1.6229539908256...|[0.16479788155515...|       1.0|\n",
            "|[1.0,168.0,88.0,2...|      1|[-1.2689939217932...|[0.21942952472986...|       1.0|\n",
            "|[1.0,181.0,64.0,3...|      1|[-0.9517094470671...|[0.27854116834243...|       1.0|\n",
            "|[1.0,181.0,64.0,3...|      1|[-0.9517094470671...|[0.27854116834243...|       1.0|\n",
            "|[1.0,181.0,78.0,4...|      1|[-1.9356885975324...|[0.12612227419537...|       1.0|\n",
            "|[1.0,181.0,78.0,4...|      1|[-1.9356885975324...|[0.12612227419537...|       1.0|\n",
            "|[2.0,56.0,56.0,28...|      0|[4.20387512522791...|[0.98528226776730...|       0.0|\n",
            "|[2.0,68.0,62.0,13...|      0|[4.06755877286547...|[0.98316900279579...|       0.0|\n",
            "|[2.0,68.0,70.0,32...|      0|[3.86447165677277...|[0.97945687063396...|       0.0|\n",
            "|[2.0,71.0,70.0,27...|      0|[3.20100949251220...|[0.96087224852440...|       0.0|\n",
            "|[2.0,74.0,69.0,20...|      0|[3.21245090780249...|[0.96130014779581...|       0.0|\n",
            "|[2.0,75.0,64.0,24...|      0|[3.01754430086778...|[0.95336045603361...|       0.0|\n",
            "|[2.0,81.0,72.0,15...|      0|[2.67666210651508...|[0.93563540170868...|       0.0|\n",
            "|[2.0,81.0,72.0,15...|      0|[2.67666210651508...|[0.93563540170868...|       0.0|\n",
            "|[2.0,83.0,65.0,28...|      0|[1.99319161401728...|[0.88008038578536...|       0.0|\n",
            "|[2.0,83.0,66.0,23...|      0|[2.43765663263271...|[0.91965410559141...|       0.0|\n",
            "|[2.0,83.0,66.0,23...|      0|[2.43765663263271...|[0.91965410559141...|       0.0|\n",
            "|[2.0,83.0,66.0,23...|      0|[2.43765663263271...|[0.91965410559141...|       0.0|\n",
            "|[2.0,84.0,50.0,23...|      0|[2.15445287064552...|[0.89608414829313...|       0.0|\n",
            "|[2.0,84.0,50.0,23...|      0|[2.15445287064552...|[0.89608414829313...|       0.0|\n",
            "|[2.0,87.0,69.0,23...|      0|[2.34438627617578...|[0.91248698332258...|       0.0|\n",
            "|[2.0,87.0,69.0,23...|      0|[2.34438627617578...|[0.91248698332258...|       0.0|\n",
            "|[2.0,88.0,58.0,26...|      0|[2.22033605849951...|[0.90206088948835...|       0.0|\n",
            "|[2.0,88.0,74.0,19...|      0|[2.74620981905356...|[0.93969893739546...|       0.0|\n",
            "|[2.0,88.0,74.0,19...|      0|[2.74620981905356...|[0.93969893739546...|       0.0|\n",
            "|[2.0,89.0,90.0,30...|      0|[2.31338472165770...|[0.90997950590159...|       0.0|\n",
            "|[2.0,89.0,90.0,30...|      0|[2.31338472165770...|[0.90997950590159...|       0.0|\n",
            "|[2.0,90.0,68.0,42...|      1|[1.75717559262138...|[0.85285557011852...|       0.0|\n",
            "|[2.0,90.0,80.0,14...|      0|[3.00657651076142...|[0.95287034888059...|       0.0|\n",
            "|[2.0,90.0,80.0,14...|      0|[3.00657651076142...|[0.95287034888059...|       0.0|\n",
            "|[2.0,92.0,52.0,20...|      0|[2.62076943012825...|[0.93218636208629...|       0.0|\n",
            "|[2.0,92.0,76.0,20...|      0|[1.68122753721235...|[0.84306700886254...|       0.0|\n",
            "|[2.0,92.0,76.0,20...|      0|[1.68122753721235...|[0.84306700886254...|       0.0|\n",
            "|[2.0,93.0,64.0,32...|      1|[1.67481212676438...|[0.84221634849309...|       0.0|\n",
            "|[2.0,94.0,68.0,18...|      0|[2.4935382371988,...|[0.92368758304257...|       0.0|\n",
            "|[2.0,99.0,52.0,15...|      0|[2.36151778820138...|[0.91384537909285...|       0.0|\n",
            "|[2.0,99.0,69.0,20...|      0|[3.00286346996312...|[0.95270332131499...|       0.0|\n",
            "|[2.0,99.0,70.0,16...|      0|[2.94030450031678...|[0.94980324647193...|       0.0|\n",
            "|[2.0,100.0,64.0,2...|      0|[2.16045403612122...|[0.89664163410574...|       0.0|\n",
            "|[2.0,100.0,64.0,2...|      0|[2.16045403612122...|[0.89664163410574...|       0.0|\n",
            "|[2.0,100.0,68.0,2...|      0|[1.49630926006457...|[0.81702337010927...|       0.0|\n",
            "|[2.0,101.0,58.0,1...|      0|[2.68341516799247...|[0.93604088877232...|       0.0|\n",
            "|[2.0,101.0,58.0,3...|      0|[2.93045435298418...|[0.94933153444218...|       0.0|\n",
            "|[2.0,102.0,86.0,3...|      1|[1.19230055116239...|[0.76715226345983...|       0.0|\n",
            "|[2.0,102.0,86.0,3...|      1|[1.19230055116239...|[0.76715226345983...|       0.0|\n",
            "|[2.0,105.0,80.0,4...|      1|[1.57626904798616...|[0.82867547501056...|       0.0|\n",
            "|[2.0,106.0,64.0,3...|      0|[0.98354919156134...|[0.72781188559371...|       0.0|\n",
            "|[2.0,107.0,74.0,3...|      0|[1.60958263680952...|[0.83335343297135...|       0.0|\n",
            "|[2.0,107.0,74.0,3...|      0|[1.60958263680952...|[0.83335343297135...|       0.0|\n",
            "|[2.0,108.0,62.0,3...|      0|[2.36664803751504...|[0.91424843726421...|       0.0|\n",
            "|[2.0,108.0,64.0,2...|      0|[1.95988872490402...|[0.87652090941264...|       0.0|\n",
            "|[2.0,108.0,64.0,2...|      0|[1.95988872490402...|[0.87652090941264...|       0.0|\n",
            "|[2.0,111.0,60.0,2...|      0|[2.02079966093177...|[0.88296367045688...|       0.0|\n",
            "|[2.0,112.0,66.0,2...|      0|[2.11012948291881...|[0.89188381953029...|       0.0|\n",
            "|[2.0,112.0,68.0,2...|      0|[1.43078263625080...|[0.80702323027032...|       0.0|\n",
            "|[2.0,112.0,75.0,3...|      0|[1.45610352788258...|[0.81093599599515...|       0.0|\n",
            "|[2.0,112.0,75.0,3...|      0|[1.45610352788258...|[0.81093599599515...|       0.0|\n",
            "|[2.0,112.0,86.0,4...|      0|[1.31381548007547...|[0.78815092335289...|       0.0|\n",
            "|[2.0,117.0,90.0,1...|      0|[1.91599226675324...|[0.87169085244106...|       0.0|\n",
            "|[2.0,118.0,80.0,2...|      1|[0.19183324991241...|[0.54781177955421...|       0.0|\n",
            "|[2.0,119.0,69.0,2...|      0|[1.62591658985613...|[0.83560948437136...|       0.0|\n",
            "|[2.0,120.0,54.0,2...|      0|[1.51254563055673...|[0.81943816278794...|       0.0|\n",
            "|[2.0,121.0,70.0,3...|      0|[0.21093340031397...|[0.55253869447532...|       0.0|\n",
            "|[2.0,122.0,52.0,4...|      0|[0.55148489619347...|[0.63448002960939...|       0.0|\n",
            "|[2.0,122.0,70.0,2...|      0|[0.79314252392634...|[0.68850569280028...|       0.0|\n",
            "|[2.0,123.0,48.0,3...|      0|[0.34218849224980...|[0.58472203572463...|       0.0|\n",
            "|[2.0,123.0,48.0,3...|      0|[0.34218849224980...|[0.58472203572463...|       0.0|\n",
            "|[2.0,124.0,68.0,2...|      1|[0.77724544894098...|[0.68508614169813...|       0.0|\n",
            "|[2.0,127.0,46.0,2...|      0|[1.44135473400285...|[0.80866435209827...|       0.0|\n",
            "|[2.0,127.0,58.0,2...|      0|[0.55870556980129...|[0.63615298124181...|       0.0|\n",
            "|[2.0,128.0,64.0,4...|      0|[-0.3547622098881...|[0.41222807592890...|       1.0|\n",
            "|[2.0,128.0,64.0,4...|      0|[-0.3547622098881...|[0.41222807592890...|       1.0|\n",
            "|[2.0,128.0,78.0,3...|      1|[-0.5205928180255...|[0.37271362345720...|       1.0|\n",
            "|[2.0,129.0,74.0,2...|      0|[0.84172318060738...|[0.69882801359160...|       0.0|\n",
            "|[2.0,129.0,84.0,2...|      0|[1.26350986555008...|[0.77962971982486...|       0.0|\n",
            "|[2.0,139.0,75.0,2...|      0|[1.15555583067759...|[0.76052424848563...|       0.0|\n",
            "|[2.0,142.0,82.0,1...|      0|[0.57967534908358...|[0.64099270074252...|       0.0|\n",
            "|[2.0,146.0,69.0,2...|      1|[0.67587266547151...|[0.66281689745314...|       0.0|\n",
            "|[2.0,146.0,70.0,3...|      1|[1.11984487928908...|[0.75395994201624...|       0.0|\n",
            "|[2.0,146.0,76.0,3...|      0|[0.01606837615415...|[0.50401700760873...|       0.0|\n",
            "|[2.0,157.0,74.0,3...|      0|[0.17440003884322...|[0.54348983558223...|       0.0|\n",
            "|[2.0,157.0,74.0,3...|      0|[0.17440003884322...|[0.54348983558223...|       0.0|\n",
            "|[2.0,167.0,44.0,3...|      0|[-2.1419105858152...|[0.10508957142017...|       1.0|\n",
            "|[2.0,174.0,88.0,3...|      1|[-1.9340938472408...|[0.12629814513455...|       1.0|\n",
            "|[2.0,175.0,88.0,2...|      0|[-0.1113055694655...|[0.47220230035537...|       1.0|\n",
            "|[2.0,175.0,88.0,2...|      0|[-0.1113055694655...|[0.47220230035537...|       1.0|\n",
            "|[2.0,175.0,88.0,2...|      0|[-0.1113055694655...|[0.47220230035537...|       1.0|\n",
            "|[2.0,197.0,70.0,9...|      1|[-2.2120558733522...|[0.09867307966106...|       1.0|\n",
            "|[3.0,61.0,82.0,28...|      0|[3.20956919558980...|[0.96119279920982...|       0.0|\n",
            "|[3.0,74.0,68.0,28...|      0|[3.02259389701420...|[0.95358446946883...|       0.0|\n",
            "|[3.0,74.0,68.0,28...|      0|[3.02259389701420...|[0.95358446946883...|       0.0|\n",
            "|[3.0,78.0,70.0,20...|      0|[2.69410611966980...|[0.93667796242860...|       0.0|\n",
            "|[3.0,80.0,69.0,20...|      0|[2.79914736009880...|[0.94262973165382...|       0.0|\n",
            "|[3.0,81.0,86.0,16...|      0|[2.97560914146285...|[0.95145998590443...|       0.0|\n",
            "|[3.0,90.0,78.0,20...|      0|[1.26863603356731...|[0.78050916994502...|       0.0|\n",
            "|[3.0,96.0,78.0,39...|      0|[1.68042810652734...|[0.84296121115357...|       0.0|\n",
            "|[3.0,96.0,78.0,39...|      0|[1.68042810652734...|[0.84296121115357...|       0.0|\n",
            "|[3.0,99.0,62.0,19...|      0|[2.72953005020966...|[0.93874682006123...|       0.0|\n",
            "|[3.0,99.0,80.0,11...|      0|[2.89964061845218...|[0.94782866854947...|       0.0|\n",
            "|[3.0,99.0,80.0,11...|      0|[2.89964061845218...|[0.94782866854947...|       0.0|\n",
            "|[3.0,102.0,74.0,2...|      0|[2.17288127572984...|[0.89778766993873...|       0.0|\n",
            "|[3.0,103.0,72.0,3...|      0|[1.89726895993135...|[0.86958211344162...|       0.0|\n",
            "|[3.0,111.0,58.0,3...|      0|[1.50025954974777...|[0.81761318392690...|       0.0|\n",
            "|[3.0,111.0,62.0,2...|      0|[2.36442760961750...|[0.91407419944838...|       0.0|\n",
            "|[3.0,111.0,62.0,2...|      0|[2.36442760961750...|[0.91407419944838...|       0.0|\n",
            "|[3.0,113.0,44.0,1...|      0|[2.28176299569370...|[0.90735535362004...|       0.0|\n",
            "|[3.0,113.0,44.0,1...|      0|[2.28176299569370...|[0.90735535362004...|       0.0|\n",
            "|[3.0,115.0,66.0,3...|      0|[1.12586398447909...|[0.75507480464129...|       0.0|\n",
            "|[3.0,116.0,69.0,2...|      0|[2.06578591147988...|[0.88753300529071...|       0.0|\n",
            "|[3.0,120.0,70.0,3...|      0|[0.28353655783175...|[0.57041304410675...|       0.0|\n",
            "|[3.0,121.0,52.0,2...|      1|[0.94898557058437...|[0.72091112231940...|       0.0|\n",
            "|[3.0,122.0,78.0,2...|      0|[1.76754997343584...|[0.85415272167405...|       0.0|\n",
            "|[3.0,123.0,100.0,...|      0|[-1.0425479766786...|[0.26065865938102...|       1.0|\n",
            "|[3.0,123.0,100.0,...|      0|[-1.0425479766786...|[0.26065865938102...|       1.0|\n",
            "|[3.0,128.0,72.0,2...|      1|[0.81830053342380...|[0.69387547148877...|       0.0|\n",
            "|[3.0,129.0,64.0,2...|      1|[1.37177162213733...|[0.79766623498244...|       0.0|\n",
            "|[3.0,129.0,92.0,4...|      1|[0.03674134927486...|[0.50918430416380...|       0.0|\n",
            "|[3.0,130.0,64.0,2...|      0|[1.44857565242789...|[0.80977912871422...|       0.0|\n",
            "|[3.0,130.0,64.0,2...|      0|[1.44857565242789...|[0.80977912871422...|       0.0|\n",
            "|[3.0,139.0,54.0,2...|      1|[0.82594382617394...|[0.69549659075046...|       0.0|\n",
            "+--------------------+-------+--------------------+--------------------+----------+\n",
            "only showing top 300 rows\n",
            "\n"
          ]
        }
      ]
    },
    {
      "cell_type": "code",
      "source": [
        "from pyspark.ml.evaluation import BinaryClassificationEvaluator\n",
        "evaluator = BinaryClassificationEvaluator(rawPredictionCol='rawPrediction',labelCol='Outcome')\n",
        "evaluator.evaluate(model.transform(test))\n"
      ],
      "metadata": {
        "colab": {
          "base_uri": "https://localhost:8080/"
        },
        "id": "KOg-Mwh9fE0R",
        "outputId": "02bc3b10-de7a-4b05-c285-5c54650ce763"
      },
      "execution_count": 48,
      "outputs": [
        {
          "output_type": "execute_result",
          "data": {
            "text/plain": [
              "0.8521930839264573"
            ]
          },
          "metadata": {},
          "execution_count": 48
        }
      ]
    },
    {
      "cell_type": "markdown",
      "source": [
        "The value above tells us that we are 85% sure of the model"
      ],
      "metadata": {
        "id": "Uw8c1Q8vffEY"
      }
    },
    {
      "cell_type": "code",
      "source": [
        "model.save(\"model1\")"
      ],
      "metadata": {
        "id": "sWx9aqW7fmQX"
      },
      "execution_count": 52,
      "outputs": []
    },
    {
      "cell_type": "code",
      "source": [
        "from pyspark.ml.classification import LogisticRegressionModel\n",
        "model = LogisticRegressionModel.load('model')"
      ],
      "metadata": {
        "id": "-hfHymMpf1QU"
      },
      "execution_count": 55,
      "outputs": []
    },
    {
      "cell_type": "code",
      "source": [],
      "metadata": {
        "id": "1qH8Qe8egC8G"
      },
      "execution_count": null,
      "outputs": []
    },
    {
      "cell_type": "markdown",
      "source": [],
      "metadata": {
        "id": "4MVjaI2af0-L"
      }
    },
    {
      "cell_type": "markdown",
      "source": [],
      "metadata": {
        "id": "jwFPTEcNf0qp"
      }
    }
  ]
}